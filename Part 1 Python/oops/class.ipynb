{
 "cells": [
  {
   "cell_type": "code",
   "execution_count": 1,
   "metadata": {},
   "outputs": [],
   "source": [
    "class test:\n",
    "  pass"
   ]
  },
  {
   "cell_type": "code",
   "execution_count": 1,
   "metadata": {},
   "outputs": [],
   "source": [
    "class temp:\n",
    "\n",
    "# __init__ is constructor in python we dont need to initialize variable before in python to create var or access them just do self.variableName it will create new and similarly we can access it need to pass argument self instead of self we can pass anything but it should be same across the class\n",
    "\n",
    "\n",
    "  def __init__(self, name, rollNo):    \n",
    "    self.name=name\n",
    "    self.rollNo = rollNo\n",
    "\n",
    "  def getDetails(self):\n",
    "    return self.name, self.rollNo\n",
    "\n",
    "\n",
    "class Person:\n",
    "  name = \"Harry\"\n",
    "  occupation = \"Software Developer\"\n",
    "  netWorth = 10\n",
    "  \n",
    "  def info(self):\n",
    "    print(f\"{self.name} is a {self.occupation}\")\n",
    "\n",
    "\n"
   ]
  },
  {
   "cell_type": "code",
   "execution_count": 3,
   "metadata": {},
   "outputs": [
    {
     "name": "stdout",
     "output_type": "stream",
     "text": [
      "rohit\n",
      "('rohit', 32)\n",
      "rohit and 32\n",
      "rohit and 32\n"
     ]
    }
   ],
   "source": [
    "t = temp(\"rohit\", 32)\n",
    "print(t.name)\n",
    "print(t.getDetails())\n",
    "\n",
    "a, b = t.getDetails()\n",
    "print(f'{a} and {b}')\n",
    "print('{} and {}'.format(a, b))"
   ]
  }
 ],
 "metadata": {
  "kernelspec": {
   "display_name": "Python 3",
   "language": "python",
   "name": "python3"
  },
  "language_info": {
   "codemirror_mode": {
    "name": "ipython",
    "version": 3
   },
   "file_extension": ".py",
   "mimetype": "text/x-python",
   "name": "python",
   "nbconvert_exporter": "python",
   "pygments_lexer": "ipython3",
   "version": "3.12.6"
  }
 },
 "nbformat": 4,
 "nbformat_minor": 2
}
