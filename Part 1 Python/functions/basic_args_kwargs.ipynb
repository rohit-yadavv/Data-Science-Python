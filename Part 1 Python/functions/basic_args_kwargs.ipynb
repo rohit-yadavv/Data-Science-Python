{
 "cells": [
  {
   "cell_type": "code",
   "execution_count": 8,
   "metadata": {},
   "outputs": [],
   "source": [
    "# def fxn():\n",
    "# cannot create empty functin or class if want nothing than write pass instead of leaving it empty\n",
    "\n",
    "\n",
    "def fxn():\n",
    "  pass\n",
    "\n",
    "\n"
   ]
  },
  {
   "cell_type": "code",
   "execution_count": 1,
   "metadata": {},
   "outputs": [],
   "source": [
    "def demo():\n",
    "  '''\n",
    "  this is function doc string we write here what this function is about it is written just below fxn name\n",
    "  '''\n",
    "  return \"my name\", 2,True ,[45, 45]"
   ]
  },
  {
   "cell_type": "code",
   "execution_count": 2,
   "metadata": {},
   "outputs": [
    {
     "data": {
      "text/plain": [
       "('my name', 2, True, [45, 45])"
      ]
     },
     "execution_count": 2,
     "metadata": {},
     "output_type": "execute_result"
    }
   ],
   "source": [
    "demo()"
   ]
  },
  {
   "cell_type": "code",
   "execution_count": 3,
   "metadata": {},
   "outputs": [
    {
     "data": {
      "text/plain": [
       "bool"
      ]
     },
     "execution_count": 3,
     "metadata": {},
     "output_type": "execute_result"
    }
   ],
   "source": [
    "a, b, c, d = demo() \n",
    "type(c)"
   ]
  },
  {
   "cell_type": "code",
   "execution_count": 1,
   "metadata": {},
   "outputs": [
    {
     "name": "stdout",
     "output_type": "stream",
     "text": [
      "25\n",
      "Takes in a number n, returns the square of n\n"
     ]
    }
   ],
   "source": [
    "def square(n):\n",
    "  '''Takes in a number n, returns the square of n'''\n",
    "  print(n**2)\n",
    "square(5)\n",
    "print(square.__doc__)"
   ]
  },
  {
   "cell_type": "code",
   "execution_count": 4,
   "metadata": {},
   "outputs": [
    {
     "name": "stdout",
     "output_type": "stream",
     "text": [
      "3\n",
      "12\n",
      "(1, 2, 3, 4, 5, 6)\n"
     ]
    }
   ],
   "source": [
    "def addition(a, b):\n",
    "  return a+b\n",
    "\n",
    "print(addition(1, 2))\n",
    "print(addition(\"1\", \"2\"))\n",
    "print(addition((1, 2, 3), (4, 5, 6 ))) "
   ]
  },
  {
   "cell_type": "code",
   "execution_count": 5,
   "metadata": {},
   "outputs": [],
   "source": [
    "def intAndFloat(temp):\n",
    "  l=[]\n",
    "  for i in temp:\n",
    "    if type(i)==int or type(i)==float:  \n",
    "      l.append(i)\n",
    "    if type(i)==list:\n",
    "      for j in i:\n",
    "          if type(j)==int or type(j)==float:\n",
    "            l.append(j)\n",
    "\n",
    "  return l"
   ]
  },
  {
   "cell_type": "code",
   "execution_count": 6,
   "metadata": {},
   "outputs": [
    {
     "data": {
      "text/plain": [
       "[1, 2, 3, 4, 9, 3, 4, 4, 5, 7]"
      ]
     },
     "execution_count": 6,
     "metadata": {},
     "output_type": "execute_result"
    }
   ],
   "source": [
    "intAndFloat([1, 2, 3, 4,\"rohit\", \"yadav\", [9,3, 4, 4, 5, 7]])"
   ]
  },
  {
   "cell_type": "code",
   "execution_count": 7,
   "metadata": {},
   "outputs": [],
   "source": [
    "def test(*AllArgumentsPassedByUsers):\n",
    "  return AllArgumentsPassedByUsers"
   ]
  },
  {
   "cell_type": "code",
   "execution_count": 8,
   "metadata": {},
   "outputs": [
    {
     "name": "stdout",
     "output_type": "stream",
     "text": [
      "<class 'tuple'>\n",
      "(1, 2, 3)\n",
      "(1, 2, 3, ['rohit'])\n"
     ]
    }
   ],
   "source": [
    "print(type(test()))\n",
    "print(test(1,2,3))\n",
    "print(test(1, 2, 3, [\"rohit\"]))"
   ]
  },
  {
   "cell_type": "code",
   "execution_count": 9,
   "metadata": {},
   "outputs": [
    {
     "data": {
      "text/plain": [
       "6"
      ]
     },
     "execution_count": 9,
     "metadata": {},
     "output_type": "execute_result"
    }
   ],
   "source": [
    "def test2(*args, a):\n",
    "  return args[0]+a\n",
    "\n",
    "test2(1, 2, 3, a=5)"
   ]
  },
  {
   "cell_type": "code",
   "execution_count": 16,
   "metadata": {},
   "outputs": [
    {
     "data": {
      "text/plain": [
       "dict"
      ]
     },
     "execution_count": 16,
     "metadata": {},
     "output_type": "execute_result"
    }
   ],
   "source": [
    "def test3(**AllArgumentsPassedInKeyValuePair):\n",
    "  return type(AllArgumentsPassedInKeyValuePair)\n",
    "\n",
    "\n",
    "test3()"
   ]
  },
  {
   "cell_type": "code",
   "execution_count": 18,
   "metadata": {},
   "outputs": [
    {
     "data": {
      "text/plain": [
       "{'a': [1, 2], 'b': ('rohit', 'yadav'), 'c': 23, 'd': {1: 'a', 2: 'b'}}"
      ]
     },
     "execution_count": 18,
     "metadata": {},
     "output_type": "execute_result"
    }
   ],
   "source": [
    "def test4(**kwargs):\n",
    "  return kwargs\n",
    "\n",
    "test4(a=[1, 2], b=(\"rohit\", \"yadav\"), c=23, d={1:\"a\", 2:\"b\"})"
   ]
  }
 ],
 "metadata": {
  "kernelspec": {
   "display_name": "Python 3",
   "language": "python",
   "name": "python3"
  },
  "language_info": {
   "codemirror_mode": {
    "name": "ipython",
    "version": 3
   },
   "file_extension": ".py",
   "mimetype": "text/x-python",
   "name": "python",
   "nbconvert_exporter": "python",
   "pygments_lexer": "ipython3",
   "version": "3.12.6"
  }
 },
 "nbformat": 4,
 "nbformat_minor": 2
}
